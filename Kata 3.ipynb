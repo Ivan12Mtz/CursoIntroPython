{
 "cells": [
  {
   "cell_type": "markdown",
   "metadata": {},
   "source": [
    "#Asteroide 49 Km/s"
   ]
  },
  {
   "cell_type": "code",
   "execution_count": 47,
   "metadata": {},
   "outputs": [
    {
     "name": "stdout",
     "output_type": "stream",
     "text": [
      "El asteroide se acerca muy rápido\n"
     ]
    }
   ],
   "source": [
    "velocidadAsteroide =49\n",
    "if velocidadAsteroide > 25:\n",
    "    print (\"El asteroide se acerca muy rápido\")"
   ]
  },
  {
   "cell_type": "markdown",
   "metadata": {},
   "source": [
    "#Asteroide 19 Km/s"
   ]
  },
  {
   "cell_type": "code",
   "execution_count": 48,
   "metadata": {},
   "outputs": [
    {
     "name": "stdout",
     "output_type": "stream",
     "text": [
      "Se observa un rayo de luz desde la tierra\n"
     ]
    }
   ],
   "source": [
    "velocidadsAsteroide =19\n",
    "if velocidadsAsteroide == 20:\n",
    "    print (\"Se observa un rayo de luz desde la tierra\")\n",
    "elif velocidadAsteroide>20:\n",
    "    print (\"Se observa un rayo de luz desde la tierra\")\n",
    "else:\n",
    "    print (\"No se observa nada\")"
   ]
  },
  {
   "cell_type": "markdown",
   "metadata": {},
   "source": [
    "#Asteroide hacia la tierra Velociad y diametro"
   ]
  },
  {
   "cell_type": "code",
   "execution_count": 49,
   "metadata": {},
   "outputs": [
    {
     "name": "stdout",
     "output_type": "stream",
     "text": [
      "Se observa un rayo de luz desde la tierra\n"
     ]
    }
   ],
   "source": [
    "diametroAsteroide = 100\n",
    "velocidadAsteroide = 20\n",
    "if diametroAsteroide >25 and velocidadAsteroide>25:\n",
    "    print (\"Un asteroide golpeara la tierra y producira mucho daño\")\n",
    "elif velocidadAsteroide>=20:\n",
    "    print(\"Se observa un rayo de luz desde la tierra\")\n",
    "else :\n",
    "    print(\"Todo bien, sin problemas Se desintegra el asteroide\")\n"
   ]
  }
 ],
 "metadata": {
  "interpreter": {
   "hash": "33541a670e8887513ebdf0f19cec6625b51694c5ef6b1c7e83282c54d5cd54e5"
  },
  "kernelspec": {
   "display_name": "Python 3.10.2 64-bit",
   "language": "python",
   "name": "python3"
  },
  "language_info": {
   "codemirror_mode": {
    "name": "ipython",
    "version": 3
   },
   "file_extension": ".py",
   "mimetype": "text/x-python",
   "name": "python",
   "nbconvert_exporter": "python",
   "pygments_lexer": "ipython3",
   "version": "3.10.2"
  },
  "orig_nbformat": 4
 },
 "nbformat": 4,
 "nbformat_minor": 2
}
