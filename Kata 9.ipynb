{
 "cells": [
  {
   "cell_type": "markdown",
   "metadata": {},
   "source": [
    "# Ejercicio 1: Trabajar con argumentos en funciones"
   ]
  },
  {
   "cell_type": "code",
   "execution_count": 183,
   "metadata": {},
   "outputs": [
    {
     "name": "stdout",
     "output_type": "stream",
     "text": [
      "    Reporte de combustibles de los tanques de la nave\n",
      "        Tanque Principal    : 45 %\n",
      "        Tanque Secundario   : 85 %\n",
      "        Tanque de Reserva   : 96 %\n",
      "    Promedio de combustible: 75.33333333333333 %\n",
      "    \n"
     ]
    }
   ],
   "source": [
    "\n",
    "def combustible(tanque1,tanque2,tanque3):\n",
    "    promedioCombustible=(tanque1+tanque2+tanque3)/3\n",
    "    reporte=f\"\"\"    Reporte de combustibles de los tanques de la nave\n",
    "        Tanque Principal    : {tanque1} %\n",
    "        Tanque Secundario   : {tanque2} %\n",
    "        Tanque de Reserva   : {tanque3} %\n",
    "    Promedio de combustible: {promedioCombustible} %\n",
    "    \"\"\"\n",
    "    return reporte\n",
    "\n",
    "#print(combustible(int(input(\"Combustible del tanque 1\")),int(input(\"Combustible del tanque 2\")),int(input(\"Combustible del tanque 3\"))))\n",
    "print(combustible(45,85,96))"
   ]
  },
  {
   "cell_type": "code",
   "execution_count": 184,
   "metadata": {},
   "outputs": [],
   "source": [
    "\n",
    "def promedio(valor1,valor2,valor3):\n",
    "    promedioCombustible=(valor1+valor2+valor3)/3\n",
    "    reporte=f'Promedio de combustible: {promedioCombustible} %'\n",
    "    return reporte\n",
    "#print(promedio(45,85,96))"
   ]
  },
  {
   "cell_type": "code",
   "execution_count": 185,
   "metadata": {},
   "outputs": [
    {
     "name": "stdout",
     "output_type": "stream",
     "text": [
      "    Reporte de combustibles de los tanques de la nave\n",
      "        Tanque Principal    : 20 %\n",
      "        Tanque Secundario   : 75 %\n",
      "        Tanque de Reserva   : 99 %\n",
      "    Promedio de combustible: Promedio de combustible: 64.66666666666667 %\n",
      "    \n"
     ]
    }
   ],
   "source": [
    "def combustible(tanque1,tanque2,tanque3):\n",
    "    reporte=f\"\"\"    Reporte de combustibles de los tanques de la nave\n",
    "        Tanque Principal    : {tanque1} %\n",
    "        Tanque Secundario   : {tanque2} %\n",
    "        Tanque de Reserva   : {tanque3} %\n",
    "    Promedio de combustible: {promedio(tanque1,tanque2,tanque3)}\n",
    "    \"\"\"\n",
    "    return reporte\n",
    "print(combustible (20,75,99))"
   ]
  },
  {
   "cell_type": "markdown",
   "metadata": {},
   "source": [
    "# Ejercicio 2: Trabajo con argumentos de palabra clave"
   ]
  },
  {
   "cell_type": "code",
   "execution_count": 186,
   "metadata": {},
   "outputs": [],
   "source": [
    "# Función con un informe preciso de la misión. Considera hora de prelanzamiento, tiempo de vuelo, destino, tanque externo y tanque interno\n",
    "def informeMision(horaPrelanzamiento,tiempoVuelo,destino,tanqueExterno,tanqueInterno):\n",
    "    reporte=f\"\"\"Reporte detllado de la misión\n",
    "    Hora de Prelanzamiento          : {horaPrelanzamiento} Minutos\n",
    "    Tiempo de vuelo                 : {tiempoVuelo} Minutos\n",
    "    Destino                         : {destino} %\n",
    "    Combustible en tanque Externo   :   {tanqueExterno} %\n",
    "    Combustible en tanque Interno   :   {tanqueInterno} %\n",
    "    \"\"\"\n",
    "    return reporte"
   ]
  },
  {
   "cell_type": "code",
   "execution_count": 187,
   "metadata": {},
   "outputs": [
    {
     "name": "stdout",
     "output_type": "stream",
     "text": [
      "Reporte detllado de la misión\n",
      "    Tiempo de vuelo                 : 12500 minutos\n",
      "    Destino                         : La luna \n",
      "    Reserva de combustible total    : 6000 litros\n",
      "    \n"
     ]
    }
   ],
   "source": [
    "def informeMisionArgs(destino,*minutos,**reservaCombustible):\n",
    "    reporte=f\"\"\"Reporte detllado de la misión\n",
    "    Tiempo de vuelo                 : {sum(minutos)} minutos\n",
    "    Destino                         : {destino} \n",
    "    Reserva de combustible total    : {sum(reservaCombustible.values())} litros\n",
    "    \"\"\"\n",
    "    return reporte\n",
    "print(informeMisionArgs('La luna',12000,500,tanque1=2500,tanque2=3500))"
   ]
  },
  {
   "cell_type": "code",
   "execution_count": 188,
   "metadata": {},
   "outputs": [
    {
     "name": "stdout",
     "output_type": "stream",
     "text": [
      "Reporte detllado de la misión\n",
      "    Tiempo de vuelo                 : 19005 minutos\n",
      "    Destino                         : Marte \n",
      "    Combustible en tanque interno   : 40500 Litros\n",
      "    Combustible en tanque externo   : 36000 Litros\n",
      "    \n"
     ]
    }
   ],
   "source": [
    "def informeMisionArgs(destino,*minutos,**reservaCombustible):\n",
    "    reporteTanques=\"\"\n",
    "    reporte=f\"\"\"Reporte detllado de la misión\n",
    "    Tiempo de vuelo                 : {sum(minutos)} minutos\n",
    "    Destino                         : {destino} \n",
    "    \"\"\"\n",
    "    for tanque,litros in reservaCombustible.items():\n",
    "            reporteTanques+=f\"\"\"Combustible en tanque {tanque}   : {litros} Litros\\n    \"\"\"\n",
    "\n",
    "    reporte+=reporteTanques\n",
    "    return reporte\n",
    "#print(informeMisionArgs('Proxima Centauri',4000,15005,interno=100000,externo=200000,reserva=300000))\n",
    "print(informeMisionArgs('Marte',4000,15005,interno=40500,externo=36000))"
   ]
  }
 ],
 "metadata": {
  "interpreter": {
   "hash": "291a66f39da6cb721008b9537d5336edcb412e4358836fb8ddd47d510b333971"
  },
  "kernelspec": {
   "display_name": "Python 3.10.2 64-bit",
   "language": "python",
   "name": "python3"
  },
  "language_info": {
   "codemirror_mode": {
    "name": "ipython",
    "version": 3
   },
   "file_extension": ".py",
   "mimetype": "text/x-python",
   "name": "python",
   "nbconvert_exporter": "python",
   "pygments_lexer": "ipython3",
   "version": "3.10.2"
  },
  "orig_nbformat": 4
 },
 "nbformat": 4,
 "nbformat_minor": 2
}
