{
 "cells": [
  {
   "cell_type": "markdown",
   "metadata": {},
   "source": [
    "# Ejercicio1: Crear y usar listas de Python"
   ]
  },
  {
   "cell_type": "code",
   "execution_count": 212,
   "metadata": {},
   "outputs": [
    {
     "name": "stdout",
     "output_type": "stream",
     "text": [
      "['Mercurio', 'Venus', 'Tierra', 'Marte', 'Jupiter', 'Saturno', 'Urano', 'Neptuno']\n"
     ]
    }
   ],
   "source": [
    "planetas = ['Mercurio', 'Venus', 'Tierra', 'Marte', 'Jupiter', 'Saturno','Urano','Neptuno']\n",
    "print (planetas)\n"
   ]
  },
  {
   "cell_type": "code",
   "execution_count": 213,
   "metadata": {},
   "outputs": [
    {
     "name": "stdout",
     "output_type": "stream",
     "text": [
      "Numero de planetas: 9\n",
      "El ultimo planeta es Plutón\n"
     ]
    }
   ],
   "source": [
    "planetas.append(\"Plutón\")\n",
    "salida = f'Numero de planetas: {len(planetas)}\\nEl ultimo planeta es {planetas[len(planetas)-1]}'\n",
    "print (salida)"
   ]
  },
  {
   "cell_type": "markdown",
   "metadata": {},
   "source": [
    "# Ejercicio 2: Trabajando con datos de una lista"
   ]
  },
  {
   "cell_type": "code",
   "execution_count": 214,
   "metadata": {},
   "outputs": [],
   "source": [
    "# Lista de planetas\n",
    "\n",
    "planets = ['Mercurio', 'Venus', 'Tierra', 'Marte', 'Júpiter', 'Saturno', 'Neptuno']"
   ]
  },
  {
   "cell_type": "code",
   "execution_count": 215,
   "metadata": {},
   "outputs": [
    {
     "name": "stdout",
     "output_type": "stream",
     "text": [
      "El planeta no está en la lista o se ha escrito incorrectamente vuelve a intentarlo\n"
     ]
    }
   ],
   "source": [
    "entrada = input(\"Introduce el nombre de un planeta (Inicia con una Mayúscula, NO Urano)\").title()\n",
    "if entrada in planets:\n",
    "    indexPlaneta = planets.index(entrada)\n",
    "else:\n",
    "    print (\"El planeta no está en la lista o se ha escrito incorrectamente vuelve a intentarlo\")\n"
   ]
  },
  {
   "cell_type": "code",
   "execution_count": 216,
   "metadata": {},
   "outputs": [
    {
     "name": "stdout",
     "output_type": "stream",
     "text": [
      "Los planetas mas cercanos al sol a partir del que introdujiste son: Mercurio, Venus\n"
     ]
    }
   ],
   "source": [
    "#Slice\n",
    "print (\"Los planetas mas cercanos al sol a partir del que introdujiste son: %s\" % ', '.join(planets [0:indexPlaneta]))\n"
   ]
  },
  {
   "cell_type": "code",
   "execution_count": 217,
   "metadata": {},
   "outputs": [
    {
     "name": "stdout",
     "output_type": "stream",
     "text": [
      "Los planetas mas lejanos al sol a partir del que introdujiste son: Marte, Júpiter, Saturno, Neptuno\n"
     ]
    }
   ],
   "source": [
    "print (\"Los planetas mas lejanos al sol a partir del que introdujiste son: %s\" %', '.join(planets[indexPlaneta+1:len(planets)]))"
   ]
  }
 ],
 "metadata": {
  "interpreter": {
   "hash": "291a66f39da6cb721008b9537d5336edcb412e4358836fb8ddd47d510b333971"
  },
  "kernelspec": {
   "display_name": "Python 3.10.2 64-bit (system)",
   "language": "python",
   "name": "python3"
  },
  "language_info": {
   "codemirror_mode": {
    "name": "ipython",
    "version": 3
   },
   "file_extension": ".py",
   "mimetype": "text/x-python",
   "name": "python",
   "nbconvert_exporter": "python",
   "pygments_lexer": "ipython3",
   "version": "3.10.2"
  },
  "orig_nbformat": 4
 },
 "nbformat": 4,
 "nbformat_minor": 2
}
